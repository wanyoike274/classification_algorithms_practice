{
 "cells": [
  {
   "cell_type": "code",
   "execution_count": 149,
   "id": "e490ce71",
   "metadata": {},
   "outputs": [],
   "source": [
    "import pandas as pd\n",
    "from sklearn.model_selection import train_test_split\n",
    "from sklearn.metrics import confusion_matrix, accuracy_score, classification_report\n",
    "from sklearn.neighbors import KNeighborsClassifier\n",
    "from sklearn.linear_model import LogisticRegression\n",
    "from sklearn.svm import SVC\n",
    "#from sklearn.tree import DecisionTreeClassifier\n",
    "from sklearn import tree\n",
    "from sklearn.tree import export_text\n",
    "from sklearn.ensemble import RandomForestClassifier\n",
    "from sklearn.naive_bayes import GaussianNB, MultinomialNB\n",
    "from sklearn.linear_model import SGDClassifier"
   ]
  },
  {
   "cell_type": "code",
   "execution_count": 2,
   "id": "07aac0c9",
   "metadata": {},
   "outputs": [],
   "source": [
    "df = pd.read_csv(\"diabetes.csv\")"
   ]
  },
  {
   "cell_type": "code",
   "execution_count": 3,
   "id": "493c0aa4",
   "metadata": {},
   "outputs": [
    {
     "data": {
      "text/html": [
       "<div>\n",
       "<style scoped>\n",
       "    .dataframe tbody tr th:only-of-type {\n",
       "        vertical-align: middle;\n",
       "    }\n",
       "\n",
       "    .dataframe tbody tr th {\n",
       "        vertical-align: top;\n",
       "    }\n",
       "\n",
       "    .dataframe thead th {\n",
       "        text-align: right;\n",
       "    }\n",
       "</style>\n",
       "<table border=\"1\" class=\"dataframe\">\n",
       "  <thead>\n",
       "    <tr style=\"text-align: right;\">\n",
       "      <th></th>\n",
       "      <th>Pregnancies</th>\n",
       "      <th>Glucose</th>\n",
       "      <th>BloodPressure</th>\n",
       "      <th>SkinThickness</th>\n",
       "      <th>Insulin</th>\n",
       "      <th>BMI</th>\n",
       "      <th>DiabetesPedigreeFunction</th>\n",
       "      <th>Age</th>\n",
       "      <th>Outcome</th>\n",
       "    </tr>\n",
       "  </thead>\n",
       "  <tbody>\n",
       "    <tr>\n",
       "      <th>0</th>\n",
       "      <td>2</td>\n",
       "      <td>138</td>\n",
       "      <td>62</td>\n",
       "      <td>35</td>\n",
       "      <td>0</td>\n",
       "      <td>33.6</td>\n",
       "      <td>0.127</td>\n",
       "      <td>47</td>\n",
       "      <td>1</td>\n",
       "    </tr>\n",
       "    <tr>\n",
       "      <th>1</th>\n",
       "      <td>0</td>\n",
       "      <td>84</td>\n",
       "      <td>82</td>\n",
       "      <td>31</td>\n",
       "      <td>125</td>\n",
       "      <td>38.2</td>\n",
       "      <td>0.233</td>\n",
       "      <td>23</td>\n",
       "      <td>0</td>\n",
       "    </tr>\n",
       "    <tr>\n",
       "      <th>2</th>\n",
       "      <td>0</td>\n",
       "      <td>145</td>\n",
       "      <td>0</td>\n",
       "      <td>0</td>\n",
       "      <td>0</td>\n",
       "      <td>44.2</td>\n",
       "      <td>0.630</td>\n",
       "      <td>31</td>\n",
       "      <td>1</td>\n",
       "    </tr>\n",
       "    <tr>\n",
       "      <th>3</th>\n",
       "      <td>0</td>\n",
       "      <td>135</td>\n",
       "      <td>68</td>\n",
       "      <td>42</td>\n",
       "      <td>250</td>\n",
       "      <td>42.3</td>\n",
       "      <td>0.365</td>\n",
       "      <td>24</td>\n",
       "      <td>1</td>\n",
       "    </tr>\n",
       "    <tr>\n",
       "      <th>4</th>\n",
       "      <td>1</td>\n",
       "      <td>139</td>\n",
       "      <td>62</td>\n",
       "      <td>41</td>\n",
       "      <td>480</td>\n",
       "      <td>40.7</td>\n",
       "      <td>0.536</td>\n",
       "      <td>21</td>\n",
       "      <td>0</td>\n",
       "    </tr>\n",
       "    <tr>\n",
       "      <th>...</th>\n",
       "      <td>...</td>\n",
       "      <td>...</td>\n",
       "      <td>...</td>\n",
       "      <td>...</td>\n",
       "      <td>...</td>\n",
       "      <td>...</td>\n",
       "      <td>...</td>\n",
       "      <td>...</td>\n",
       "      <td>...</td>\n",
       "    </tr>\n",
       "    <tr>\n",
       "      <th>1995</th>\n",
       "      <td>2</td>\n",
       "      <td>75</td>\n",
       "      <td>64</td>\n",
       "      <td>24</td>\n",
       "      <td>55</td>\n",
       "      <td>29.7</td>\n",
       "      <td>0.370</td>\n",
       "      <td>33</td>\n",
       "      <td>0</td>\n",
       "    </tr>\n",
       "    <tr>\n",
       "      <th>1996</th>\n",
       "      <td>8</td>\n",
       "      <td>179</td>\n",
       "      <td>72</td>\n",
       "      <td>42</td>\n",
       "      <td>130</td>\n",
       "      <td>32.7</td>\n",
       "      <td>0.719</td>\n",
       "      <td>36</td>\n",
       "      <td>1</td>\n",
       "    </tr>\n",
       "    <tr>\n",
       "      <th>1997</th>\n",
       "      <td>6</td>\n",
       "      <td>85</td>\n",
       "      <td>78</td>\n",
       "      <td>0</td>\n",
       "      <td>0</td>\n",
       "      <td>31.2</td>\n",
       "      <td>0.382</td>\n",
       "      <td>42</td>\n",
       "      <td>0</td>\n",
       "    </tr>\n",
       "    <tr>\n",
       "      <th>1998</th>\n",
       "      <td>0</td>\n",
       "      <td>129</td>\n",
       "      <td>110</td>\n",
       "      <td>46</td>\n",
       "      <td>130</td>\n",
       "      <td>67.1</td>\n",
       "      <td>0.319</td>\n",
       "      <td>26</td>\n",
       "      <td>1</td>\n",
       "    </tr>\n",
       "    <tr>\n",
       "      <th>1999</th>\n",
       "      <td>2</td>\n",
       "      <td>81</td>\n",
       "      <td>72</td>\n",
       "      <td>15</td>\n",
       "      <td>76</td>\n",
       "      <td>30.1</td>\n",
       "      <td>0.547</td>\n",
       "      <td>25</td>\n",
       "      <td>0</td>\n",
       "    </tr>\n",
       "  </tbody>\n",
       "</table>\n",
       "<p>2000 rows × 9 columns</p>\n",
       "</div>"
      ],
      "text/plain": [
       "      Pregnancies  Glucose  BloodPressure  SkinThickness  Insulin   BMI  \\\n",
       "0               2      138             62             35        0  33.6   \n",
       "1               0       84             82             31      125  38.2   \n",
       "2               0      145              0              0        0  44.2   \n",
       "3               0      135             68             42      250  42.3   \n",
       "4               1      139             62             41      480  40.7   \n",
       "...           ...      ...            ...            ...      ...   ...   \n",
       "1995            2       75             64             24       55  29.7   \n",
       "1996            8      179             72             42      130  32.7   \n",
       "1997            6       85             78              0        0  31.2   \n",
       "1998            0      129            110             46      130  67.1   \n",
       "1999            2       81             72             15       76  30.1   \n",
       "\n",
       "      DiabetesPedigreeFunction  Age  Outcome  \n",
       "0                        0.127   47        1  \n",
       "1                        0.233   23        0  \n",
       "2                        0.630   31        1  \n",
       "3                        0.365   24        1  \n",
       "4                        0.536   21        0  \n",
       "...                        ...  ...      ...  \n",
       "1995                     0.370   33        0  \n",
       "1996                     0.719   36        1  \n",
       "1997                     0.382   42        0  \n",
       "1998                     0.319   26        1  \n",
       "1999                     0.547   25        0  \n",
       "\n",
       "[2000 rows x 9 columns]"
      ]
     },
     "execution_count": 3,
     "metadata": {},
     "output_type": "execute_result"
    }
   ],
   "source": [
    "df"
   ]
  },
  {
   "cell_type": "code",
   "execution_count": 7,
   "id": "abcb633a",
   "metadata": {},
   "outputs": [],
   "source": [
    "X = df.drop(\"Outcome\",axis=\"columns\")"
   ]
  },
  {
   "cell_type": "code",
   "execution_count": 8,
   "id": "4127daf7",
   "metadata": {},
   "outputs": [
    {
     "data": {
      "text/html": [
       "<div>\n",
       "<style scoped>\n",
       "    .dataframe tbody tr th:only-of-type {\n",
       "        vertical-align: middle;\n",
       "    }\n",
       "\n",
       "    .dataframe tbody tr th {\n",
       "        vertical-align: top;\n",
       "    }\n",
       "\n",
       "    .dataframe thead th {\n",
       "        text-align: right;\n",
       "    }\n",
       "</style>\n",
       "<table border=\"1\" class=\"dataframe\">\n",
       "  <thead>\n",
       "    <tr style=\"text-align: right;\">\n",
       "      <th></th>\n",
       "      <th>Pregnancies</th>\n",
       "      <th>Glucose</th>\n",
       "      <th>BloodPressure</th>\n",
       "      <th>SkinThickness</th>\n",
       "      <th>Insulin</th>\n",
       "      <th>BMI</th>\n",
       "      <th>DiabetesPedigreeFunction</th>\n",
       "      <th>Age</th>\n",
       "    </tr>\n",
       "  </thead>\n",
       "  <tbody>\n",
       "    <tr>\n",
       "      <th>0</th>\n",
       "      <td>2</td>\n",
       "      <td>138</td>\n",
       "      <td>62</td>\n",
       "      <td>35</td>\n",
       "      <td>0</td>\n",
       "      <td>33.6</td>\n",
       "      <td>0.127</td>\n",
       "      <td>47</td>\n",
       "    </tr>\n",
       "    <tr>\n",
       "      <th>1</th>\n",
       "      <td>0</td>\n",
       "      <td>84</td>\n",
       "      <td>82</td>\n",
       "      <td>31</td>\n",
       "      <td>125</td>\n",
       "      <td>38.2</td>\n",
       "      <td>0.233</td>\n",
       "      <td>23</td>\n",
       "    </tr>\n",
       "    <tr>\n",
       "      <th>2</th>\n",
       "      <td>0</td>\n",
       "      <td>145</td>\n",
       "      <td>0</td>\n",
       "      <td>0</td>\n",
       "      <td>0</td>\n",
       "      <td>44.2</td>\n",
       "      <td>0.630</td>\n",
       "      <td>31</td>\n",
       "    </tr>\n",
       "    <tr>\n",
       "      <th>3</th>\n",
       "      <td>0</td>\n",
       "      <td>135</td>\n",
       "      <td>68</td>\n",
       "      <td>42</td>\n",
       "      <td>250</td>\n",
       "      <td>42.3</td>\n",
       "      <td>0.365</td>\n",
       "      <td>24</td>\n",
       "    </tr>\n",
       "    <tr>\n",
       "      <th>4</th>\n",
       "      <td>1</td>\n",
       "      <td>139</td>\n",
       "      <td>62</td>\n",
       "      <td>41</td>\n",
       "      <td>480</td>\n",
       "      <td>40.7</td>\n",
       "      <td>0.536</td>\n",
       "      <td>21</td>\n",
       "    </tr>\n",
       "    <tr>\n",
       "      <th>...</th>\n",
       "      <td>...</td>\n",
       "      <td>...</td>\n",
       "      <td>...</td>\n",
       "      <td>...</td>\n",
       "      <td>...</td>\n",
       "      <td>...</td>\n",
       "      <td>...</td>\n",
       "      <td>...</td>\n",
       "    </tr>\n",
       "    <tr>\n",
       "      <th>1995</th>\n",
       "      <td>2</td>\n",
       "      <td>75</td>\n",
       "      <td>64</td>\n",
       "      <td>24</td>\n",
       "      <td>55</td>\n",
       "      <td>29.7</td>\n",
       "      <td>0.370</td>\n",
       "      <td>33</td>\n",
       "    </tr>\n",
       "    <tr>\n",
       "      <th>1996</th>\n",
       "      <td>8</td>\n",
       "      <td>179</td>\n",
       "      <td>72</td>\n",
       "      <td>42</td>\n",
       "      <td>130</td>\n",
       "      <td>32.7</td>\n",
       "      <td>0.719</td>\n",
       "      <td>36</td>\n",
       "    </tr>\n",
       "    <tr>\n",
       "      <th>1997</th>\n",
       "      <td>6</td>\n",
       "      <td>85</td>\n",
       "      <td>78</td>\n",
       "      <td>0</td>\n",
       "      <td>0</td>\n",
       "      <td>31.2</td>\n",
       "      <td>0.382</td>\n",
       "      <td>42</td>\n",
       "    </tr>\n",
       "    <tr>\n",
       "      <th>1998</th>\n",
       "      <td>0</td>\n",
       "      <td>129</td>\n",
       "      <td>110</td>\n",
       "      <td>46</td>\n",
       "      <td>130</td>\n",
       "      <td>67.1</td>\n",
       "      <td>0.319</td>\n",
       "      <td>26</td>\n",
       "    </tr>\n",
       "    <tr>\n",
       "      <th>1999</th>\n",
       "      <td>2</td>\n",
       "      <td>81</td>\n",
       "      <td>72</td>\n",
       "      <td>15</td>\n",
       "      <td>76</td>\n",
       "      <td>30.1</td>\n",
       "      <td>0.547</td>\n",
       "      <td>25</td>\n",
       "    </tr>\n",
       "  </tbody>\n",
       "</table>\n",
       "<p>2000 rows × 8 columns</p>\n",
       "</div>"
      ],
      "text/plain": [
       "      Pregnancies  Glucose  BloodPressure  SkinThickness  Insulin   BMI  \\\n",
       "0               2      138             62             35        0  33.6   \n",
       "1               0       84             82             31      125  38.2   \n",
       "2               0      145              0              0        0  44.2   \n",
       "3               0      135             68             42      250  42.3   \n",
       "4               1      139             62             41      480  40.7   \n",
       "...           ...      ...            ...            ...      ...   ...   \n",
       "1995            2       75             64             24       55  29.7   \n",
       "1996            8      179             72             42      130  32.7   \n",
       "1997            6       85             78              0        0  31.2   \n",
       "1998            0      129            110             46      130  67.1   \n",
       "1999            2       81             72             15       76  30.1   \n",
       "\n",
       "      DiabetesPedigreeFunction  Age  \n",
       "0                        0.127   47  \n",
       "1                        0.233   23  \n",
       "2                        0.630   31  \n",
       "3                        0.365   24  \n",
       "4                        0.536   21  \n",
       "...                        ...  ...  \n",
       "1995                     0.370   33  \n",
       "1996                     0.719   36  \n",
       "1997                     0.382   42  \n",
       "1998                     0.319   26  \n",
       "1999                     0.547   25  \n",
       "\n",
       "[2000 rows x 8 columns]"
      ]
     },
     "execution_count": 8,
     "metadata": {},
     "output_type": "execute_result"
    }
   ],
   "source": [
    "X"
   ]
  },
  {
   "cell_type": "code",
   "execution_count": 9,
   "id": "01082970",
   "metadata": {},
   "outputs": [],
   "source": [
    "y = df.Outcome #or y = df[\"Outcome\"]"
   ]
  },
  {
   "cell_type": "markdown",
   "id": "26cfdb1d",
   "metadata": {},
   "source": []
  },
  {
   "cell_type": "code",
   "execution_count": 61,
   "id": "a71356f3",
   "metadata": {},
   "outputs": [],
   "source": [
    "X_train, X_test, y_train, y_test =train_test_split(X, y, test_size = 0.3)"
   ]
  },
  {
   "cell_type": "markdown",
   "id": "696b1573",
   "metadata": {},
   "source": [
    "# KNeighborsClassifier"
   ]
  },
  {
   "cell_type": "code",
   "execution_count": 49,
   "id": "4c156c01",
   "metadata": {},
   "outputs": [],
   "source": [
    "knn = KNeighborsClassifier(n_neighbors=3)"
   ]
  },
  {
   "cell_type": "code",
   "execution_count": 50,
   "id": "72fa942c",
   "metadata": {},
   "outputs": [
    {
     "data": {
      "text/plain": [
       "KNeighborsClassifier(n_neighbors=3)"
      ]
     },
     "execution_count": 50,
     "metadata": {},
     "output_type": "execute_result"
    }
   ],
   "source": [
    "knn.fit(X_train, y_train)"
   ]
  },
  {
   "cell_type": "code",
   "execution_count": 53,
   "id": "b41a7af2",
   "metadata": {},
   "outputs": [
    {
     "data": {
      "text/plain": [
       "array([1])"
      ]
     },
     "execution_count": 53,
     "metadata": {},
     "output_type": "execute_result"
    }
   ],
   "source": [
    "knn.predict([[2,130,60,40,0,32,0.250,35]])\n"
   ]
  },
  {
   "cell_type": "code",
   "execution_count": 62,
   "id": "2840f08e",
   "metadata": {},
   "outputs": [
    {
     "data": {
      "text/plain": [
       "0.9266666666666666"
      ]
     },
     "execution_count": 62,
     "metadata": {},
     "output_type": "execute_result"
    }
   ],
   "source": [
    "knn.score(X_test, y_test)"
   ]
  },
  {
   "cell_type": "markdown",
   "id": "29dcc47e",
   "metadata": {},
   "source": [
    "# Logistic Regression"
   ]
  },
  {
   "cell_type": "code",
   "execution_count": 37,
   "id": "cc481a98",
   "metadata": {},
   "outputs": [],
   "source": [
    "logistic = LogisticRegression()"
   ]
  },
  {
   "cell_type": "code",
   "execution_count": 57,
   "id": "e89afe82",
   "metadata": {},
   "outputs": [
    {
     "name": "stderr",
     "output_type": "stream",
     "text": [
      "/home/wanyoike/anaconda3/lib/python3.9/site-packages/sklearn/linear_model/_logistic.py:763: ConvergenceWarning: lbfgs failed to converge (status=1):\n",
      "STOP: TOTAL NO. of ITERATIONS REACHED LIMIT.\n",
      "\n",
      "Increase the number of iterations (max_iter) or scale the data as shown in:\n",
      "    https://scikit-learn.org/stable/modules/preprocessing.html\n",
      "Please also refer to the documentation for alternative solver options:\n",
      "    https://scikit-learn.org/stable/modules/linear_model.html#logistic-regression\n",
      "  n_iter_i = _check_optimize_result(\n"
     ]
    },
    {
     "data": {
      "text/plain": [
       "LogisticRegression()"
      ]
     },
     "execution_count": 57,
     "metadata": {},
     "output_type": "execute_result"
    }
   ],
   "source": [
    "logistic.fit(X_train, y_train)"
   ]
  },
  {
   "cell_type": "code",
   "execution_count": 67,
   "id": "8422906d",
   "metadata": {},
   "outputs": [],
   "source": [
    "prediction = logistic.predict([[2,130,60,40,0,32,0.250,35]])"
   ]
  },
  {
   "cell_type": "code",
   "execution_count": 72,
   "id": "1b2ebd11",
   "metadata": {},
   "outputs": [],
   "source": [
    "prediction2 = logistic.predict(X_test)"
   ]
  },
  {
   "cell_type": "code",
   "execution_count": 69,
   "id": "e11061fa",
   "metadata": {},
   "outputs": [
    {
     "data": {
      "text/plain": [
       "array([0])"
      ]
     },
     "execution_count": 69,
     "metadata": {},
     "output_type": "execute_result"
    }
   ],
   "source": [
    "prediction"
   ]
  },
  {
   "cell_type": "code",
   "execution_count": 75,
   "id": "244c979e",
   "metadata": {},
   "outputs": [
    {
     "data": {
      "text/plain": [
       "array([0, 0, 0, 0, 0, 0, 1, 1, 0, 1, 0, 1, 0, 0, 0, 1, 0, 0, 0, 0, 0, 0,\n",
       "       0, 1, 0, 1, 0, 1, 1, 1, 0, 0, 1, 0, 0, 0, 0, 0, 0, 1, 0, 1, 1, 0,\n",
       "       0, 1, 1, 0, 0, 0, 0, 0, 0, 0, 0, 1, 1, 0, 0, 0, 0, 0, 0, 0, 1, 1,\n",
       "       0, 0, 0, 1, 0, 0, 0, 1, 0, 0, 1, 0, 1, 0, 0, 1, 0, 0, 0, 0, 1, 1,\n",
       "       0, 0, 0, 0, 0, 0, 0, 1, 0, 1, 0, 0, 0, 0, 0, 0, 0, 1, 1, 0, 0, 0,\n",
       "       0, 1, 0, 0, 0, 0, 0, 0, 0, 0, 0, 0, 0, 0, 0, 0, 0, 1, 1, 1, 0, 0,\n",
       "       0, 0, 1, 0, 0, 0, 0, 0, 0, 0, 0, 1, 1, 0, 1, 0, 0, 0, 0, 0, 0, 0,\n",
       "       0, 0, 0, 1, 0, 0, 0, 1, 0, 1, 0, 0, 1, 0, 0, 0, 0, 0, 0, 0, 0, 0,\n",
       "       1, 0, 0, 0, 0, 0, 1, 0, 1, 1, 1, 0, 0, 0, 0, 0, 0, 0, 0, 0, 1, 0,\n",
       "       1, 0, 0, 1, 0, 0, 1, 0, 0, 1, 0, 0, 0, 0, 0, 0, 0, 0, 1, 0, 1, 0,\n",
       "       0, 0, 0, 0, 0, 1, 0, 0, 1, 0, 0, 0, 0, 0, 0, 0, 0, 0, 0, 0, 0, 1,\n",
       "       0, 0, 0, 0, 0, 0, 0, 1, 0, 1, 0, 1, 0, 1, 0, 0, 0, 0, 1, 0, 1, 0,\n",
       "       0, 0, 0, 0, 0, 0, 0, 0, 0, 1, 0, 1, 0, 1, 1, 1, 1, 0, 0, 0, 1, 0,\n",
       "       0, 1, 0, 0, 0, 0, 1, 1, 0, 0, 0, 0, 1, 0, 0, 0, 0, 1, 0, 0, 0, 0,\n",
       "       1, 0, 0, 1, 0, 0, 0, 1, 0, 0, 0, 1, 1, 0, 0, 1, 0, 0, 0, 0, 0, 0,\n",
       "       0, 0, 0, 0, 0, 0, 0, 1, 0, 0, 1, 0, 0, 0, 1, 0, 0, 0, 0, 0, 0, 0,\n",
       "       0, 0, 0, 0, 1, 0, 1, 0, 0, 0, 0, 0, 1, 0, 0, 1, 0, 0, 0, 1, 0, 0,\n",
       "       1, 0, 0, 0, 1, 0, 0, 1, 1, 0, 0, 0, 0, 0, 1, 1, 0, 0, 0, 0, 1, 0,\n",
       "       0, 0, 0, 1, 0, 0, 0, 0, 0, 0, 1, 0, 1, 0, 1, 0, 0, 1, 0, 0, 0, 0,\n",
       "       0, 0, 0, 1, 0, 0, 0, 0, 1, 0, 1, 1, 0, 0, 1, 0, 0, 0, 0, 0, 0, 0,\n",
       "       1, 0, 0, 1, 0, 0, 0, 0, 0, 0, 0, 0, 0, 0, 0, 0, 0, 0, 0, 0, 0, 0,\n",
       "       0, 0, 1, 0, 0, 0, 0, 0, 0, 1, 0, 0, 0, 0, 0, 1, 1, 0, 0, 1, 0, 0,\n",
       "       0, 0, 0, 0, 0, 1, 0, 0, 0, 0, 1, 1, 0, 0, 0, 0, 0, 0, 0, 0, 0, 0,\n",
       "       1, 1, 0, 0, 0, 0, 0, 0, 0, 0, 0, 0, 1, 1, 0, 1, 0, 1, 1, 0, 0, 0,\n",
       "       0, 0, 0, 0, 0, 1, 0, 0, 1, 0, 0, 0, 0, 0, 1, 0, 1, 1, 0, 0, 0, 0,\n",
       "       0, 1, 1, 0, 0, 0, 0, 0, 0, 0, 0, 0, 0, 0, 1, 0, 0, 1, 1, 1, 1, 1,\n",
       "       1, 0, 0, 1, 1, 0, 0, 0, 0, 0, 1, 0, 0, 0, 0, 0, 0, 0, 0, 0, 0, 0,\n",
       "       0, 0, 0, 0, 0, 0])"
      ]
     },
     "execution_count": 75,
     "metadata": {},
     "output_type": "execute_result"
    }
   ],
   "source": [
    "prediction2"
   ]
  },
  {
   "cell_type": "code",
   "execution_count": 64,
   "id": "1b990974",
   "metadata": {},
   "outputs": [
    {
     "data": {
      "text/plain": [
       "0.765"
      ]
     },
     "execution_count": 64,
     "metadata": {},
     "output_type": "execute_result"
    }
   ],
   "source": [
    "logistic.score(X_test, y_test)"
   ]
  },
  {
   "cell_type": "code",
   "execution_count": 76,
   "id": "7196da38",
   "metadata": {},
   "outputs": [
    {
     "data": {
      "text/plain": [
       "0.765"
      ]
     },
     "execution_count": 76,
     "metadata": {},
     "output_type": "execute_result"
    }
   ],
   "source": [
    "accuracy_score(prediction2, y_test)"
   ]
  },
  {
   "cell_type": "code",
   "execution_count": 77,
   "id": "6fb3c22b",
   "metadata": {},
   "outputs": [
    {
     "data": {
      "text/plain": [
       "array([[358, 101],\n",
       "       [ 40, 101]])"
      ]
     },
     "execution_count": 77,
     "metadata": {},
     "output_type": "execute_result"
    }
   ],
   "source": [
    "confusion_matrix(prediction2, y_test)"
   ]
  },
  {
   "cell_type": "code",
   "execution_count": 78,
   "id": "2bed9b51",
   "metadata": {},
   "outputs": [
    {
     "data": {
      "text/plain": [
       "'              precision    recall  f1-score   support\\n\\n           0       0.90      0.78      0.84       459\\n           1       0.50      0.72      0.59       141\\n\\n    accuracy                           0.77       600\\n   macro avg       0.70      0.75      0.71       600\\nweighted avg       0.81      0.77      0.78       600\\n'"
      ]
     },
     "execution_count": 78,
     "metadata": {},
     "output_type": "execute_result"
    }
   ],
   "source": [
    "classification_report(prediction2, y_test)"
   ]
  },
  {
   "cell_type": "markdown",
   "id": "bc4fbd6c",
   "metadata": {},
   "source": [
    "# support vector machine"
   ]
  },
  {
   "cell_type": "code",
   "execution_count": 79,
   "id": "67747778",
   "metadata": {},
   "outputs": [],
   "source": [
    "#Support vector machines (SVMs) are a set of supervised learning methods used for \n",
    "#classification, regression and outliers detection"
   ]
  },
  {
   "cell_type": "code",
   "execution_count": 83,
   "id": "a927603d",
   "metadata": {},
   "outputs": [],
   "source": [
    "svm1 = SVC()"
   ]
  },
  {
   "cell_type": "code",
   "execution_count": 84,
   "id": "f85a3f77",
   "metadata": {},
   "outputs": [
    {
     "data": {
      "text/plain": [
       "SVC()"
      ]
     },
     "execution_count": 84,
     "metadata": {},
     "output_type": "execute_result"
    }
   ],
   "source": [
    "svm1.fit(X_train, y_train)"
   ]
  },
  {
   "cell_type": "code",
   "execution_count": 89,
   "id": "53e9af5c",
   "metadata": {},
   "outputs": [],
   "source": [
    "prediction_svm = svm1.predict([[2,130,60,40,0,32,0.250,35]])"
   ]
  },
  {
   "cell_type": "code",
   "execution_count": 90,
   "id": "7a2dc5f7",
   "metadata": {},
   "outputs": [
    {
     "data": {
      "text/plain": [
       "array([0])"
      ]
     },
     "execution_count": 90,
     "metadata": {},
     "output_type": "execute_result"
    }
   ],
   "source": [
    "prediction_svm"
   ]
  },
  {
   "cell_type": "code",
   "execution_count": 91,
   "id": "629d7bae",
   "metadata": {},
   "outputs": [],
   "source": [
    "prediction_svm2 = svm1.predict(X_test)"
   ]
  },
  {
   "cell_type": "code",
   "execution_count": 93,
   "id": "27b0a5cf",
   "metadata": {},
   "outputs": [
    {
     "data": {
      "text/plain": [
       "0.775"
      ]
     },
     "execution_count": 93,
     "metadata": {},
     "output_type": "execute_result"
    }
   ],
   "source": [
    "svm1.score(X_test, y_test)"
   ]
  },
  {
   "cell_type": "code",
   "execution_count": 94,
   "id": "147f6a1b",
   "metadata": {},
   "outputs": [
    {
     "data": {
      "text/plain": [
       "array([[358,  95],\n",
       "       [ 40, 107]])"
      ]
     },
     "execution_count": 94,
     "metadata": {},
     "output_type": "execute_result"
    }
   ],
   "source": [
    "confusion_matrix(prediction_svm2, y_test)"
   ]
  },
  {
   "cell_type": "markdown",
   "id": "0ea67067",
   "metadata": {},
   "source": [
    "# Decision Tree"
   ]
  },
  {
   "cell_type": "code",
   "execution_count": 95,
   "id": "6583eba6",
   "metadata": {},
   "outputs": [],
   "source": [
    "#Decision Tree classifier"
   ]
  },
  {
   "cell_type": "code",
   "execution_count": 111,
   "id": "bdd22242",
   "metadata": {},
   "outputs": [],
   "source": [
    "tree1 = tree.DecisionTreeClassifier()"
   ]
  },
  {
   "cell_type": "code",
   "execution_count": 113,
   "id": "e8178046",
   "metadata": {},
   "outputs": [],
   "source": [
    "tree_fit = tree1.fit(X_train, y_train)"
   ]
  },
  {
   "cell_type": "code",
   "execution_count": 115,
   "id": "7eeb9bcb",
   "metadata": {},
   "outputs": [],
   "source": [
    "p_tree = tree1.predict([[2,130,60,40,0,32,0.250,35]])"
   ]
  },
  {
   "cell_type": "code",
   "execution_count": 116,
   "id": "021d07ac",
   "metadata": {},
   "outputs": [
    {
     "data": {
      "text/plain": [
       "array([0])"
      ]
     },
     "execution_count": 116,
     "metadata": {},
     "output_type": "execute_result"
    }
   ],
   "source": [
    "p_tree"
   ]
  },
  {
   "cell_type": "code",
   "execution_count": 102,
   "id": "9b7bca81",
   "metadata": {},
   "outputs": [],
   "source": [
    "p_tree2 = tree.predict(X_test)"
   ]
  },
  {
   "cell_type": "code",
   "execution_count": 103,
   "id": "2007978a",
   "metadata": {},
   "outputs": [
    {
     "data": {
      "text/plain": [
       "0.9733333333333334"
      ]
     },
     "execution_count": 103,
     "metadata": {},
     "output_type": "execute_result"
    }
   ],
   "source": [
    "tree.score(X_test, y_test)"
   ]
  },
  {
   "cell_type": "code",
   "execution_count": 104,
   "id": "7a7935da",
   "metadata": {},
   "outputs": [
    {
     "data": {
      "text/plain": [
       "array([[392,  10],\n",
       "       [  6, 192]])"
      ]
     },
     "execution_count": 104,
     "metadata": {},
     "output_type": "execute_result"
    }
   ],
   "source": [
    "confusion_matrix(p_tree2, y_test)"
   ]
  },
  {
   "cell_type": "code",
   "execution_count": 105,
   "id": "97ef330b",
   "metadata": {},
   "outputs": [],
   "source": [
    "#Once trained, you can plot the tree with the plot_tree function:\n"
   ]
  },
  {
   "cell_type": "code",
   "execution_count": 117,
   "id": "3b7799ee",
   "metadata": {},
   "outputs": [
    {
     "data": {
      "text/plain": [
       "[Text(160.86627551020408, 210.192, 'X[1] <= 127.5\\ngini = 0.452\\nsamples = 1400\\nvalue = [918, 482]'),\n",
       " Text(72.68234693877551, 195.696, 'X[7] <= 28.5\\ngini = 0.306\\nsamples = 871\\nvalue = [707, 164]'),\n",
       " Text(27.544132653061222, 181.2, 'X[0] <= 7.5\\ngini = 0.135\\nsamples = 496\\nvalue = [460, 36]'),\n",
       " Text(24.811071428571427, 166.704, 'X[5] <= 32.25\\ngini = 0.125\\nsamples = 493\\nvalue = [460, 33]'),\n",
       " Text(10.932244897959183, 152.208, 'X[5] <= 31.4\\ngini = 0.014\\nsamples = 291\\nvalue = [289, 2]'),\n",
       " Text(5.466122448979592, 137.712, 'X[6] <= 0.668\\ngini = 0.007\\nsamples = 274\\nvalue = [273, 1]'),\n",
       " Text(2.733061224489796, 123.216, 'gini = 0.0\\nsamples = 234\\nvalue = [234, 0]'),\n",
       " Text(8.199183673469388, 123.216, 'X[6] <= 0.686\\ngini = 0.049\\nsamples = 40\\nvalue = [39, 1]'),\n",
       " Text(5.466122448979592, 108.72, 'gini = 0.0\\nsamples = 1\\nvalue = [0, 1]'),\n",
       " Text(10.932244897959183, 108.72, 'gini = 0.0\\nsamples = 39\\nvalue = [39, 0]'),\n",
       " Text(16.398367346938777, 137.712, 'X[1] <= 106.0\\ngini = 0.111\\nsamples = 17\\nvalue = [16, 1]'),\n",
       " Text(13.665306122448978, 123.216, 'gini = 0.0\\nsamples = 15\\nvalue = [15, 0]'),\n",
       " Text(19.13142857142857, 123.216, 'X[6] <= 0.174\\ngini = 0.5\\nsamples = 2\\nvalue = [1, 1]'),\n",
       " Text(16.398367346938777, 108.72, 'gini = 0.0\\nsamples = 1\\nvalue = [1, 0]'),\n",
       " Text(21.864489795918367, 108.72, 'gini = 0.0\\nsamples = 1\\nvalue = [0, 1]'),\n",
       " Text(38.689897959183675, 152.208, 'X[2] <= 37.0\\ngini = 0.26\\nsamples = 202\\nvalue = [171, 31]'),\n",
       " Text(35.95683673469387, 137.712, 'gini = 0.0\\nsamples = 5\\nvalue = [0, 5]'),\n",
       " Text(41.42295918367347, 137.712, 'X[6] <= 0.135\\ngini = 0.229\\nsamples = 197\\nvalue = [171, 26]'),\n",
       " Text(30.063673469387755, 123.216, 'X[6] <= 0.114\\ngini = 0.444\\nsamples = 6\\nvalue = [2, 4]'),\n",
       " Text(27.330612244897956, 108.72, 'gini = 0.0\\nsamples = 2\\nvalue = [2, 0]'),\n",
       " Text(32.79673469387755, 108.72, 'gini = 0.0\\nsamples = 4\\nvalue = [0, 4]'),\n",
       " Text(52.78224489795918, 123.216, 'X[6] <= 0.501\\ngini = 0.204\\nsamples = 191\\nvalue = [169, 22]'),\n",
       " Text(38.26285714285714, 108.72, 'X[2] <= 94.0\\ngini = 0.082\\nsamples = 117\\nvalue = [112, 5]'),\n",
       " Text(35.52979591836735, 94.22399999999999, 'X[2] <= 83.5\\ngini = 0.051\\nsamples = 115\\nvalue = [112, 3]'),\n",
       " Text(30.063673469387755, 79.72799999999998, 'X[3] <= 8.0\\ngini = 0.018\\nsamples = 108\\nvalue = [107, 1]'),\n",
       " Text(27.330612244897956, 65.232, 'X[7] <= 24.0\\ngini = 0.18\\nsamples = 10\\nvalue = [9, 1]'),\n",
       " Text(24.59755102040816, 50.73599999999999, 'gini = 0.0\\nsamples = 1\\nvalue = [0, 1]'),\n",
       " Text(30.063673469387755, 50.73599999999999, 'gini = 0.0\\nsamples = 9\\nvalue = [9, 0]'),\n",
       " Text(32.79673469387755, 65.232, 'gini = 0.0\\nsamples = 98\\nvalue = [98, 0]'),\n",
       " Text(40.99591836734694, 79.72799999999998, 'X[4] <= 38.0\\ngini = 0.408\\nsamples = 7\\nvalue = [5, 2]'),\n",
       " Text(38.26285714285714, 65.232, 'gini = 0.0\\nsamples = 2\\nvalue = [0, 2]'),\n",
       " Text(43.72897959183673, 65.232, 'gini = 0.0\\nsamples = 5\\nvalue = [5, 0]'),\n",
       " Text(40.99591836734694, 94.22399999999999, 'gini = 0.0\\nsamples = 2\\nvalue = [0, 2]'),\n",
       " Text(67.30163265306122, 108.72, 'X[5] <= 38.65\\ngini = 0.354\\nsamples = 74\\nvalue = [57, 17]'),\n",
       " Text(59.44408163265306, 94.22399999999999, 'X[5] <= 37.6\\ngini = 0.444\\nsamples = 48\\nvalue = [32, 16]'),\n",
       " Text(56.711020408163265, 79.72799999999998, 'X[6] <= 0.841\\ngini = 0.397\\nsamples = 44\\nvalue = [32, 12]'),\n",
       " Text(49.19510204081632, 65.232, 'X[5] <= 33.65\\ngini = 0.313\\nsamples = 36\\nvalue = [29, 7]'),\n",
       " Text(42.36244897959183, 50.73599999999999, 'X[6] <= 0.572\\ngini = 0.49\\nsamples = 7\\nvalue = [3, 4]'),\n",
       " Text(39.62938775510204, 36.23999999999998, 'gini = 0.0\\nsamples = 4\\nvalue = [0, 4]'),\n",
       " Text(45.095510204081634, 36.23999999999998, 'gini = 0.0\\nsamples = 3\\nvalue = [3, 0]'),\n",
       " Text(56.027755102040814, 50.73599999999999, 'X[3] <= 40.0\\ngini = 0.185\\nsamples = 29\\nvalue = [26, 3]'),\n",
       " Text(50.561632653061224, 36.23999999999998, 'X[6] <= 0.741\\ngini = 0.08\\nsamples = 24\\nvalue = [23, 1]'),\n",
       " Text(47.82857142857143, 21.744, 'gini = 0.0\\nsamples = 22\\nvalue = [22, 0]'),\n",
       " Text(53.29469387755102, 21.744, 'X[3] <= 33.5\\ngini = 0.5\\nsamples = 2\\nvalue = [1, 1]'),\n",
       " Text(50.561632653061224, 7.2479999999999905, 'gini = 0.0\\nsamples = 1\\nvalue = [0, 1]'),\n",
       " Text(56.027755102040814, 7.2479999999999905, 'gini = 0.0\\nsamples = 1\\nvalue = [1, 0]'),\n",
       " Text(61.493877551020404, 36.23999999999998, 'X[6] <= 0.665\\ngini = 0.48\\nsamples = 5\\nvalue = [3, 2]'),\n",
       " Text(58.76081632653061, 21.744, 'gini = 0.0\\nsamples = 2\\nvalue = [0, 2]'),\n",
       " Text(64.2269387755102, 21.744, 'gini = 0.0\\nsamples = 3\\nvalue = [3, 0]'),\n",
       " Text(64.2269387755102, 65.232, 'X[4] <= 63.0\\ngini = 0.469\\nsamples = 8\\nvalue = [3, 5]'),\n",
       " Text(61.493877551020404, 50.73599999999999, 'gini = 0.0\\nsamples = 3\\nvalue = [3, 0]'),\n",
       " Text(66.96, 50.73599999999999, 'gini = 0.0\\nsamples = 5\\nvalue = [0, 5]'),\n",
       " Text(62.177142857142854, 79.72799999999998, 'gini = 0.0\\nsamples = 4\\nvalue = [0, 4]'),\n",
       " Text(75.15918367346939, 94.22399999999999, 'X[7] <= 21.5\\ngini = 0.074\\nsamples = 26\\nvalue = [25, 1]'),\n",
       " Text(72.42612244897958, 79.72799999999998, 'X[0] <= 2.5\\ngini = 0.444\\nsamples = 3\\nvalue = [2, 1]'),\n",
       " Text(69.6930612244898, 65.232, 'gini = 0.0\\nsamples = 1\\nvalue = [0, 1]'),\n",
       " Text(75.15918367346939, 65.232, 'gini = 0.0\\nsamples = 2\\nvalue = [2, 0]'),\n",
       " Text(77.89224489795919, 79.72799999999998, 'gini = 0.0\\nsamples = 23\\nvalue = [23, 0]'),\n",
       " Text(30.27719387755102, 166.704, 'gini = 0.0\\nsamples = 3\\nvalue = [0, 3]'),\n",
       " Text(117.8205612244898, 181.2, 'X[5] <= 26.35\\ngini = 0.45\\nsamples = 375\\nvalue = [247, 128]'),\n",
       " Text(97.02367346938775, 166.704, 'X[5] <= 9.65\\ngini = 0.072\\nsamples = 80\\nvalue = [77, 3]'),\n",
       " Text(94.29061224489796, 152.208, 'gini = 0.0\\nsamples = 3\\nvalue = [0, 3]'),\n",
       " Text(99.75673469387755, 152.208, 'gini = 0.0\\nsamples = 77\\nvalue = [77, 0]'),\n",
       " Text(138.61744897959184, 166.704, 'X[1] <= 100.5\\ngini = 0.488\\nsamples = 295\\nvalue = [170, 125]'),\n",
       " Text(105.22285714285714, 152.208, 'X[1] <= 28.5\\ngini = 0.304\\nsamples = 107\\nvalue = [87, 20]'),\n",
       " Text(102.48979591836735, 137.712, 'gini = 0.0\\nsamples = 3\\nvalue = [0, 3]'),\n",
       " Text(107.95591836734694, 137.712, 'X[0] <= 13.0\\ngini = 0.273\\nsamples = 104\\nvalue = [87, 17]'),\n",
       " Text(105.22285714285714, 123.216, 'X[6] <= 0.796\\ngini = 0.239\\nsamples = 101\\nvalue = [87, 14]'),\n",
       " Text(94.29061224489796, 108.72, 'X[1] <= 93.5\\ngini = 0.167\\nsamples = 87\\nvalue = [79, 8]'),\n",
       " Text(86.09142857142857, 94.22399999999999, 'X[0] <= 11.5\\ngini = 0.037\\nsamples = 53\\nvalue = [52, 1]'),\n",
       " Text(83.35836734693878, 79.72799999999998, 'gini = 0.0\\nsamples = 50\\nvalue = [50, 0]'),\n",
       " Text(88.82448979591837, 79.72799999999998, 'X[3] <= 35.5\\ngini = 0.444\\nsamples = 3\\nvalue = [2, 1]'),\n",
       " Text(86.09142857142857, 65.232, 'gini = 0.0\\nsamples = 1\\nvalue = [0, 1]'),\n",
       " Text(91.55755102040816, 65.232, 'gini = 0.0\\nsamples = 2\\nvalue = [2, 0]'),\n",
       " Text(102.48979591836735, 94.22399999999999, 'X[1] <= 97.5\\ngini = 0.327\\nsamples = 34\\nvalue = [27, 7]'),\n",
       " Text(99.75673469387755, 79.72799999999998, 'X[5] <= 36.2\\ngini = 0.497\\nsamples = 13\\nvalue = [6, 7]'),\n",
       " Text(97.02367346938775, 65.232, 'gini = 0.0\\nsamples = 7\\nvalue = [0, 7]'),\n",
       " Text(102.48979591836735, 65.232, 'gini = 0.0\\nsamples = 6\\nvalue = [6, 0]'),\n",
       " Text(105.22285714285714, 79.72799999999998, 'gini = 0.0\\nsamples = 21\\nvalue = [21, 0]'),\n",
       " Text(116.15510204081632, 108.72, 'X[0] <= 6.0\\ngini = 0.49\\nsamples = 14\\nvalue = [8, 6]'),\n",
       " Text(113.42204081632653, 94.22399999999999, 'X[6] <= 1.16\\ngini = 0.198\\nsamples = 9\\nvalue = [8, 1]'),\n",
       " Text(110.68897959183673, 79.72799999999998, 'gini = 0.0\\nsamples = 8\\nvalue = [8, 0]'),\n",
       " Text(116.15510204081632, 79.72799999999998, 'gini = 0.0\\nsamples = 1\\nvalue = [0, 1]'),\n",
       " Text(118.88816326530612, 94.22399999999999, 'gini = 0.0\\nsamples = 5\\nvalue = [0, 5]'),\n",
       " Text(110.68897959183673, 123.216, 'gini = 0.0\\nsamples = 3\\nvalue = [0, 3]'),\n",
       " Text(172.01204081632653, 152.208, 'X[6] <= 0.561\\ngini = 0.493\\nsamples = 188\\nvalue = [83, 105]'),\n",
       " Text(154.07632653061225, 137.712, 'X[4] <= 11.0\\ngini = 0.493\\nsamples = 127\\nvalue = [71, 56]'),\n",
       " Text(145.53551020408162, 123.216, 'X[2] <= 84.0\\ngini = 0.496\\nsamples = 94\\nvalue = [43, 51]'),\n",
       " Text(136.6530612244898, 108.72, 'X[1] <= 107.5\\ngini = 0.456\\nsamples = 74\\nvalue = [26, 48]'),\n",
       " Text(127.08734693877551, 94.22399999999999, 'X[6] <= 0.29\\ngini = 0.444\\nsamples = 21\\nvalue = [14, 7]'),\n",
       " Text(121.62122448979592, 79.72799999999998, 'X[2] <= 78.0\\ngini = 0.245\\nsamples = 14\\nvalue = [12, 2]'),\n",
       " Text(118.88816326530612, 65.232, 'gini = 0.0\\nsamples = 10\\nvalue = [10, 0]'),\n",
       " Text(124.35428571428571, 65.232, 'X[3] <= 15.0\\ngini = 0.5\\nsamples = 4\\nvalue = [2, 2]'),\n",
       " Text(121.62122448979592, 50.73599999999999, 'gini = 0.0\\nsamples = 2\\nvalue = [0, 2]'),\n",
       " Text(127.08734693877551, 50.73599999999999, 'gini = 0.0\\nsamples = 2\\nvalue = [2, 0]'),\n",
       " Text(132.5534693877551, 79.72799999999998, 'X[2] <= 56.0\\ngini = 0.408\\nsamples = 7\\nvalue = [2, 5]'),\n",
       " Text(129.8204081632653, 65.232, 'gini = 0.0\\nsamples = 2\\nvalue = [2, 0]'),\n",
       " Text(135.2865306122449, 65.232, 'gini = 0.0\\nsamples = 5\\nvalue = [0, 5]'),\n",
       " Text(146.21877551020407, 94.22399999999999, 'X[6] <= 0.387\\ngini = 0.35\\nsamples = 53\\nvalue = [12, 41]'),\n",
       " Text(143.4857142857143, 79.72799999999998, 'X[7] <= 56.0\\ngini = 0.223\\nsamples = 47\\nvalue = [6, 41]'),\n",
       " Text(140.7526530612245, 65.232, 'X[6] <= 0.111\\ngini = 0.162\\nsamples = 45\\nvalue = [4, 41]'),\n",
       " Text(138.0195918367347, 50.73599999999999, 'gini = 0.0\\nsamples = 2\\nvalue = [2, 0]'),\n",
       " Text(143.4857142857143, 50.73599999999999, 'X[3] <= 39.5\\ngini = 0.089\\nsamples = 43\\nvalue = [2, 41]'),\n",
       " Text(140.7526530612245, 36.23999999999998, 'X[0] <= 9.0\\ngini = 0.046\\nsamples = 42\\nvalue = [1, 41]'),\n",
       " Text(138.0195918367347, 21.744, 'gini = 0.0\\nsamples = 35\\nvalue = [0, 35]'),\n",
       " Text(143.4857142857143, 21.744, 'X[1] <= 116.5\\ngini = 0.245\\nsamples = 7\\nvalue = [1, 6]'),\n",
       " Text(140.7526530612245, 7.2479999999999905, 'gini = 0.0\\nsamples = 6\\nvalue = [0, 6]'),\n",
       " Text(146.21877551020407, 7.2479999999999905, 'gini = 0.0\\nsamples = 1\\nvalue = [1, 0]'),\n",
       " Text(146.21877551020407, 36.23999999999998, 'gini = 0.0\\nsamples = 1\\nvalue = [1, 0]'),\n",
       " Text(146.21877551020407, 65.232, 'gini = 0.0\\nsamples = 2\\nvalue = [2, 0]'),\n",
       " Text(148.95183673469387, 79.72799999999998, 'gini = 0.0\\nsamples = 6\\nvalue = [6, 0]'),\n",
       " Text(154.41795918367347, 108.72, 'X[5] <= 41.25\\ngini = 0.255\\nsamples = 20\\nvalue = [17, 3]'),\n",
       " Text(151.68489795918367, 94.22399999999999, 'gini = 0.0\\nsamples = 17\\nvalue = [17, 0]'),\n",
       " Text(157.15102040816325, 94.22399999999999, 'gini = 0.0\\nsamples = 3\\nvalue = [0, 3]'),\n",
       " Text(162.61714285714285, 123.216, 'X[0] <= 1.5\\ngini = 0.257\\nsamples = 33\\nvalue = [28, 5]'),\n",
       " Text(159.88408163265305, 108.72, 'gini = 0.0\\nsamples = 3\\nvalue = [0, 3]'),\n",
       " Text(165.35020408163265, 108.72, 'X[2] <= 81.0\\ngini = 0.124\\nsamples = 30\\nvalue = [28, 2]'),\n",
       " Text(162.61714285714285, 94.22399999999999, 'gini = 0.0\\nsamples = 23\\nvalue = [23, 0]'),\n",
       " Text(168.08326530612246, 94.22399999999999, 'X[2] <= 84.0\\ngini = 0.408\\nsamples = 7\\nvalue = [5, 2]'),\n",
       " Text(165.35020408163265, 79.72799999999998, 'gini = 0.0\\nsamples = 2\\nvalue = [0, 2]'),\n",
       " Text(170.81632653061223, 79.72799999999998, 'gini = 0.0\\nsamples = 5\\nvalue = [5, 0]'),\n",
       " Text(189.94775510204082, 137.712, 'X[3] <= 47.5\\ngini = 0.316\\nsamples = 61\\nvalue = [12, 49]'),\n",
       " Text(187.214693877551, 123.216, 'X[3] <= 9.0\\ngini = 0.262\\nsamples = 58\\nvalue = [9, 49]'),\n",
       " Text(181.7485714285714, 108.72, 'X[0] <= 6.5\\ngini = 0.465\\nsamples = 19\\nvalue = [7, 12]'),\n",
       " Text(179.01551020408164, 94.22399999999999, 'X[7] <= 58.0\\ngini = 0.42\\nsamples = 10\\nvalue = [7, 3]'),\n",
       " Text(176.28244897959183, 79.72799999999998, 'gini = 0.0\\nsamples = 7\\nvalue = [7, 0]'),\n",
       " Text(181.7485714285714, 79.72799999999998, 'gini = 0.0\\nsamples = 3\\nvalue = [0, 3]'),\n",
       " Text(184.4816326530612, 94.22399999999999, 'gini = 0.0\\nsamples = 9\\nvalue = [0, 9]'),\n",
       " Text(192.68081632653062, 108.72, 'X[6] <= 1.395\\ngini = 0.097\\nsamples = 39\\nvalue = [2, 37]'),\n",
       " Text(189.94775510204082, 94.22399999999999, 'X[4] <= 222.5\\ngini = 0.051\\nsamples = 38\\nvalue = [1, 37]'),\n",
       " Text(187.214693877551, 79.72799999999998, 'gini = 0.0\\nsamples = 36\\nvalue = [0, 36]'),\n",
       " Text(192.68081632653062, 79.72799999999998, 'X[6] <= 0.704\\ngini = 0.5\\nsamples = 2\\nvalue = [1, 1]'),\n",
       " Text(189.94775510204082, 65.232, 'gini = 0.0\\nsamples = 1\\nvalue = [0, 1]'),\n",
       " Text(195.4138775510204, 65.232, 'gini = 0.0\\nsamples = 1\\nvalue = [1, 0]'),\n",
       " Text(195.4138775510204, 94.22399999999999, 'gini = 0.0\\nsamples = 1\\nvalue = [1, 0]'),\n",
       " Text(192.68081632653062, 123.216, 'gini = 0.0\\nsamples = 3\\nvalue = [3, 0]'),\n",
       " Text(249.05020408163264, 195.696, 'X[5] <= 29.95\\ngini = 0.48\\nsamples = 529\\nvalue = [211, 318]'),\n",
       " Text(210.44571428571427, 181.2, 'X[7] <= 26.5\\ngini = 0.419\\nsamples = 147\\nvalue = [103, 44]'),\n",
       " Text(204.9795918367347, 166.704, 'X[5] <= 28.8\\ngini = 0.049\\nsamples = 40\\nvalue = [39, 1]'),\n",
       " Text(202.2465306122449, 152.208, 'gini = 0.0\\nsamples = 39\\nvalue = [39, 0]'),\n",
       " Text(207.71265306122447, 152.208, 'gini = 0.0\\nsamples = 1\\nvalue = [0, 1]'),\n",
       " Text(215.91183673469388, 166.704, 'X[7] <= 60.5\\ngini = 0.481\\nsamples = 107\\nvalue = [64, 43]'),\n",
       " Text(213.17877551020408, 152.208, 'X[1] <= 154.5\\ngini = 0.499\\nsamples = 83\\nvalue = [40, 43]'),\n",
       " Text(206.34612244897957, 137.712, 'X[3] <= 28.5\\ngini = 0.44\\nsamples = 52\\nvalue = [35, 17]'),\n",
       " Text(200.88, 123.216, 'X[2] <= 28.0\\ngini = 0.219\\nsamples = 32\\nvalue = [28, 4]'),\n",
       " Text(198.1469387755102, 108.72, 'gini = 0.0\\nsamples = 2\\nvalue = [0, 2]'),\n",
       " Text(203.6130612244898, 108.72, 'X[7] <= 59.5\\ngini = 0.124\\nsamples = 30\\nvalue = [28, 2]'),\n",
       " Text(200.88, 94.22399999999999, 'gini = 0.0\\nsamples = 27\\nvalue = [27, 0]'),\n",
       " Text(206.34612244897957, 94.22399999999999, 'X[2] <= 81.0\\ngini = 0.444\\nsamples = 3\\nvalue = [1, 2]'),\n",
       " Text(203.6130612244898, 79.72799999999998, 'gini = 0.0\\nsamples = 2\\nvalue = [0, 2]'),\n",
       " Text(209.07918367346937, 79.72799999999998, 'gini = 0.0\\nsamples = 1\\nvalue = [1, 0]'),\n",
       " Text(211.81224489795918, 123.216, 'X[5] <= 28.8\\ngini = 0.455\\nsamples = 20\\nvalue = [7, 13]'),\n",
       " Text(209.07918367346937, 108.72, 'gini = 0.0\\nsamples = 11\\nvalue = [0, 11]'),\n",
       " Text(214.54530612244898, 108.72, 'X[3] <= 30.5\\ngini = 0.346\\nsamples = 9\\nvalue = [7, 2]'),\n",
       " Text(211.81224489795918, 94.22399999999999, 'gini = 0.0\\nsamples = 2\\nvalue = [0, 2]'),\n",
       " Text(217.27836734693878, 94.22399999999999, 'gini = 0.0\\nsamples = 7\\nvalue = [7, 0]'),\n",
       " Text(220.01142857142855, 137.712, 'X[5] <= 27.0\\ngini = 0.271\\nsamples = 31\\nvalue = [5, 26]'),\n",
       " Text(217.27836734693878, 123.216, 'gini = 0.0\\nsamples = 18\\nvalue = [0, 18]'),\n",
       " Text(222.74448979591835, 123.216, 'X[7] <= 36.5\\ngini = 0.473\\nsamples = 13\\nvalue = [5, 8]'),\n",
       " Text(220.01142857142855, 108.72, 'gini = 0.0\\nsamples = 8\\nvalue = [0, 8]'),\n",
       " Text(225.47755102040816, 108.72, 'gini = 0.0\\nsamples = 5\\nvalue = [5, 0]'),\n",
       " Text(218.64489795918365, 152.208, 'gini = 0.0\\nsamples = 24\\nvalue = [24, 0]'),\n",
       " Text(287.654693877551, 181.2, 'X[1] <= 157.5\\ngini = 0.406\\nsamples = 382\\nvalue = [108, 274]'),\n",
       " Text(252.80816326530612, 166.704, 'X[7] <= 30.5\\ngini = 0.474\\nsamples = 215\\nvalue = [83, 132]'),\n",
       " Text(236.40979591836734, 152.208, 'X[2] <= 61.0\\ngini = 0.481\\nsamples = 92\\nvalue = [55, 37]'),\n",
       " Text(233.67673469387753, 137.712, 'gini = 0.0\\nsamples = 15\\nvalue = [0, 15]'),\n",
       " Text(239.14285714285714, 137.712, 'X[5] <= 41.8\\ngini = 0.408\\nsamples = 77\\nvalue = [55, 22]'),\n",
       " Text(233.67673469387753, 123.216, 'X[6] <= 1.141\\ngini = 0.285\\nsamples = 58\\nvalue = [48, 10]'),\n",
       " Text(230.94367346938776, 108.72, 'X[0] <= 4.5\\ngini = 0.222\\nsamples = 55\\nvalue = [48, 7]'),\n",
       " Text(225.47755102040816, 94.22399999999999, 'X[2] <= 73.0\\ngini = 0.147\\nsamples = 50\\nvalue = [46, 4]'),\n",
       " Text(222.74448979591835, 79.72799999999998, 'X[0] <= 0.5\\ngini = 0.332\\nsamples = 19\\nvalue = [15, 4]'),\n",
       " Text(217.27836734693878, 65.232, 'X[6] <= 0.183\\ngini = 0.48\\nsamples = 5\\nvalue = [2, 3]'),\n",
       " Text(214.54530612244898, 50.73599999999999, 'gini = 0.0\\nsamples = 2\\nvalue = [2, 0]'),\n",
       " Text(220.01142857142855, 50.73599999999999, 'gini = 0.0\\nsamples = 3\\nvalue = [0, 3]'),\n",
       " Text(228.21061224489796, 65.232, 'X[2] <= 71.0\\ngini = 0.133\\nsamples = 14\\nvalue = [13, 1]'),\n",
       " Text(225.47755102040816, 50.73599999999999, 'gini = 0.0\\nsamples = 13\\nvalue = [13, 0]'),\n",
       " Text(230.94367346938776, 50.73599999999999, 'gini = 0.0\\nsamples = 1\\nvalue = [0, 1]'),\n",
       " Text(228.21061224489796, 79.72799999999998, 'gini = 0.0\\nsamples = 31\\nvalue = [31, 0]'),\n",
       " Text(236.40979591836734, 94.22399999999999, 'X[6] <= 0.617\\ngini = 0.48\\nsamples = 5\\nvalue = [2, 3]'),\n",
       " Text(233.67673469387753, 79.72799999999998, 'gini = 0.0\\nsamples = 3\\nvalue = [0, 3]'),\n",
       " Text(239.14285714285714, 79.72799999999998, 'gini = 0.0\\nsamples = 2\\nvalue = [2, 0]'),\n",
       " Text(236.40979591836734, 108.72, 'gini = 0.0\\nsamples = 3\\nvalue = [0, 3]'),\n",
       " Text(244.60897959183671, 123.216, 'X[6] <= 0.373\\ngini = 0.465\\nsamples = 19\\nvalue = [7, 12]'),\n",
       " Text(241.87591836734694, 108.72, 'gini = 0.0\\nsamples = 10\\nvalue = [0, 10]'),\n",
       " Text(247.34204081632652, 108.72, 'X[1] <= 142.5\\ngini = 0.346\\nsamples = 9\\nvalue = [7, 2]'),\n",
       " Text(244.60897959183671, 94.22399999999999, 'gini = 0.0\\nsamples = 2\\nvalue = [0, 2]'),\n",
       " Text(250.07510204081632, 94.22399999999999, 'gini = 0.0\\nsamples = 7\\nvalue = [7, 0]'),\n",
       " Text(269.2065306122449, 152.208, 'X[6] <= 0.429\\ngini = 0.352\\nsamples = 123\\nvalue = [28, 95]'),\n",
       " Text(258.2742857142857, 137.712, 'X[5] <= 45.55\\ngini = 0.492\\nsamples = 48\\nvalue = [21, 27]'),\n",
       " Text(255.54122448979592, 123.216, 'X[6] <= 0.136\\ngini = 0.491\\nsamples = 37\\nvalue = [21, 16]'),\n",
       " Text(252.80816326530612, 108.72, 'gini = 0.0\\nsamples = 5\\nvalue = [0, 5]'),\n",
       " Text(258.2742857142857, 108.72, 'X[7] <= 67.5\\ngini = 0.451\\nsamples = 32\\nvalue = [21, 11]'),\n",
       " Text(255.54122448979592, 94.22399999999999, 'X[1] <= 136.5\\ngini = 0.4\\nsamples = 29\\nvalue = [21, 8]'),\n",
       " Text(252.80816326530612, 79.72799999999998, 'X[1] <= 130.5\\ngini = 0.49\\nsamples = 14\\nvalue = [6, 8]'),\n",
       " Text(250.07510204081632, 65.232, 'gini = 0.0\\nsamples = 5\\nvalue = [5, 0]'),\n",
       " Text(255.54122448979592, 65.232, 'X[4] <= 147.5\\ngini = 0.198\\nsamples = 9\\nvalue = [1, 8]'),\n",
       " Text(252.80816326530612, 50.73599999999999, 'gini = 0.0\\nsamples = 8\\nvalue = [0, 8]'),\n",
       " Text(258.2742857142857, 50.73599999999999, 'gini = 0.0\\nsamples = 1\\nvalue = [1, 0]'),\n",
       " Text(258.2742857142857, 79.72799999999998, 'gini = 0.0\\nsamples = 15\\nvalue = [15, 0]'),\n",
       " Text(261.0073469387755, 94.22399999999999, 'gini = 0.0\\nsamples = 3\\nvalue = [0, 3]'),\n",
       " Text(261.0073469387755, 123.216, 'gini = 0.0\\nsamples = 11\\nvalue = [0, 11]'),\n",
       " Text(280.1387755102041, 137.712, 'X[4] <= 333.5\\ngini = 0.169\\nsamples = 75\\nvalue = [7, 68]'),\n",
       " Text(274.6726530612245, 123.216, 'X[6] <= 1.567\\ngini = 0.083\\nsamples = 69\\nvalue = [3, 66]'),\n",
       " Text(271.9395918367347, 108.72, 'X[0] <= 12.5\\ngini = 0.057\\nsamples = 68\\nvalue = [2, 66]'),\n",
       " Text(266.4734693877551, 94.22399999999999, 'X[5] <= 39.7\\ngini = 0.03\\nsamples = 65\\nvalue = [1, 64]'),\n",
       " Text(263.7404081632653, 79.72799999999998, 'gini = 0.0\\nsamples = 52\\nvalue = [0, 52]'),\n",
       " Text(269.2065306122449, 79.72799999999998, 'X[2] <= 81.0\\ngini = 0.142\\nsamples = 13\\nvalue = [1, 12]'),\n",
       " Text(266.4734693877551, 65.232, 'gini = 0.0\\nsamples = 12\\nvalue = [0, 12]'),\n",
       " Text(271.9395918367347, 65.232, 'gini = 0.0\\nsamples = 1\\nvalue = [1, 0]'),\n",
       " Text(277.4057142857143, 94.22399999999999, 'X[2] <= 44.0\\ngini = 0.444\\nsamples = 3\\nvalue = [1, 2]'),\n",
       " Text(274.6726530612245, 79.72799999999998, 'gini = 0.0\\nsamples = 2\\nvalue = [0, 2]'),\n",
       " Text(280.1387755102041, 79.72799999999998, 'gini = 0.0\\nsamples = 1\\nvalue = [1, 0]'),\n",
       " Text(277.4057142857143, 108.72, 'gini = 0.0\\nsamples = 1\\nvalue = [1, 0]'),\n",
       " Text(285.6048979591837, 123.216, 'X[3] <= 34.0\\ngini = 0.444\\nsamples = 6\\nvalue = [4, 2]'),\n",
       " Text(282.8718367346939, 108.72, 'gini = 0.0\\nsamples = 2\\nvalue = [0, 2]'),\n",
       " Text(288.33795918367343, 108.72, 'gini = 0.0\\nsamples = 4\\nvalue = [4, 0]'),\n",
       " Text(322.5012244897959, 166.704, 'X[4] <= 629.5\\ngini = 0.255\\nsamples = 167\\nvalue = [25, 142]'),\n",
       " Text(319.7681632653061, 152.208, 'X[5] <= 46.1\\ngini = 0.232\\nsamples = 164\\nvalue = [22, 142]'),\n",
       " Text(310.20244897959185, 137.712, 'X[6] <= 0.343\\ngini = 0.182\\nsamples = 148\\nvalue = [15, 133]'),\n",
       " Text(299.27020408163264, 123.216, 'X[7] <= 37.5\\ngini = 0.328\\nsamples = 58\\nvalue = [12, 46]'),\n",
       " Text(293.80408163265304, 108.72, 'X[2] <= 69.0\\ngini = 0.469\\nsamples = 24\\nvalue = [9, 15]'),\n",
       " Text(291.07102040816324, 94.22399999999999, 'gini = 0.0\\nsamples = 7\\nvalue = [7, 0]'),\n",
       " Text(296.53714285714284, 94.22399999999999, 'X[7] <= 36.0\\ngini = 0.208\\nsamples = 17\\nvalue = [2, 15]'),\n",
       " Text(293.80408163265304, 79.72799999999998, 'gini = 0.0\\nsamples = 15\\nvalue = [0, 15]'),\n",
       " Text(299.27020408163264, 79.72799999999998, 'gini = 0.0\\nsamples = 2\\nvalue = [2, 0]'),\n",
       " Text(304.73632653061225, 108.72, 'X[7] <= 49.5\\ngini = 0.161\\nsamples = 34\\nvalue = [3, 31]'),\n",
       " Text(302.00326530612244, 94.22399999999999, 'gini = 0.0\\nsamples = 27\\nvalue = [0, 27]'),\n",
       " Text(307.46938775510205, 94.22399999999999, 'X[5] <= 34.85\\ngini = 0.49\\nsamples = 7\\nvalue = [3, 4]'),\n",
       " Text(304.73632653061225, 79.72799999999998, 'gini = 0.0\\nsamples = 3\\nvalue = [3, 0]'),\n",
       " Text(310.20244897959185, 79.72799999999998, 'gini = 0.0\\nsamples = 4\\nvalue = [0, 4]'),\n",
       " Text(321.134693877551, 123.216, 'X[6] <= 1.428\\ngini = 0.064\\nsamples = 90\\nvalue = [3, 87]'),\n",
       " Text(315.6685714285714, 108.72, 'X[7] <= 48.0\\ngini = 0.023\\nsamples = 86\\nvalue = [1, 85]'),\n",
       " Text(312.9355102040816, 94.22399999999999, 'gini = 0.0\\nsamples = 68\\nvalue = [0, 68]'),\n",
       " Text(318.4016326530612, 94.22399999999999, 'X[1] <= 166.5\\ngini = 0.105\\nsamples = 18\\nvalue = [1, 17]'),\n",
       " Text(315.6685714285714, 79.72799999999998, 'X[0] <= 4.0\\ngini = 0.444\\nsamples = 3\\nvalue = [1, 2]'),\n",
       " Text(312.9355102040816, 65.232, 'gini = 0.0\\nsamples = 2\\nvalue = [0, 2]'),\n",
       " Text(318.4016326530612, 65.232, 'gini = 0.0\\nsamples = 1\\nvalue = [1, 0]'),\n",
       " Text(321.134693877551, 79.72799999999998, 'gini = 0.0\\nsamples = 15\\nvalue = [0, 15]'),\n",
       " Text(326.6008163265306, 108.72, 'X[6] <= 1.677\\ngini = 0.5\\nsamples = 4\\nvalue = [2, 2]'),\n",
       " Text(323.8677551020408, 94.22399999999999, 'gini = 0.0\\nsamples = 2\\nvalue = [2, 0]'),\n",
       " Text(329.3338775510204, 94.22399999999999, 'gini = 0.0\\nsamples = 2\\nvalue = [0, 2]'),\n",
       " Text(329.3338775510204, 137.712, 'X[4] <= 120.0\\ngini = 0.492\\nsamples = 16\\nvalue = [7, 9]'),\n",
       " Text(326.6008163265306, 123.216, 'gini = 0.0\\nsamples = 9\\nvalue = [0, 9]'),\n",
       " Text(332.0669387755102, 123.216, 'gini = 0.0\\nsamples = 7\\nvalue = [7, 0]'),\n",
       " Text(325.2342857142857, 152.208, 'gini = 0.0\\nsamples = 3\\nvalue = [3, 0]')]"
      ]
     },
     "execution_count": 117,
     "metadata": {},
     "output_type": "execute_result"
    },
    {
     "data": {
      "image/png": "[encoded data removed]",
      "text/plain": [
       "<Figure size 432x288 with 1 Axes>"
      ]
     },
     "metadata": {
      "needs_background": "light"
     },
     "output_type": "display_data"
    }
   ],
   "source": [
    "tree.plot_tree(tree_fit)"
   ]
  },
  {
   "cell_type": "code",
   "execution_count": null,
   "id": "2bfe0af2",
   "metadata": {},
   "outputs": [],
   "source": []
  },
  {
   "cell_type": "code",
   "execution_count": null,
   "id": "b1088033",
   "metadata": {},
   "outputs": [],
   "source": []
  },
  {
   "cell_type": "code",
   "execution_count": 118,
   "id": "12c220f1",
   "metadata": {},
   "outputs": [],
   "source": [
    "#Alternatively, the tree can also be exported in textual format with the \n",
    "#function export_text. This method doesn’t require the installation of external libraries \n",
    "#and is more compact:"
   ]
  },
  {
   "cell_type": "markdown",
   "id": "673b3d9d",
   "metadata": {},
   "source": [
    "# Random Forest"
   ]
  },
  {
   "cell_type": "code",
   "execution_count": 121,
   "id": "7adc4d0d",
   "metadata": {},
   "outputs": [],
   "source": [
    "#RandomForestClassifier"
   ]
  },
  {
   "cell_type": "code",
   "execution_count": 123,
   "id": "3d4115e9",
   "metadata": {},
   "outputs": [],
   "source": [
    "clf = RandomForestClassifier()"
   ]
  },
  {
   "cell_type": "code",
   "execution_count": 125,
   "id": "2bce756e",
   "metadata": {},
   "outputs": [
    {
     "data": {
      "text/plain": [
       "RandomForestClassifier()"
      ]
     },
     "execution_count": 125,
     "metadata": {},
     "output_type": "execute_result"
    }
   ],
   "source": [
    "clf.fit(X_train, y_train)"
   ]
  },
  {
   "cell_type": "code",
   "execution_count": 130,
   "id": "7f545b6c",
   "metadata": {},
   "outputs": [
    {
     "data": {
      "text/plain": [
       "array([1])"
      ]
     },
     "execution_count": 130,
     "metadata": {},
     "output_type": "execute_result"
    }
   ],
   "source": [
    "clf.predict([[2,130,60,40,0,32,0.250,35]])"
   ]
  },
  {
   "cell_type": "code",
   "execution_count": 132,
   "id": "5bc4a447",
   "metadata": {},
   "outputs": [
    {
     "data": {
      "text/plain": [
       "0.9683333333333334"
      ]
     },
     "execution_count": 132,
     "metadata": {},
     "output_type": "execute_result"
    }
   ],
   "source": [
    "clf.score(X_test, y_test)"
   ]
  },
  {
   "cell_type": "code",
   "execution_count": 134,
   "id": "a43241a4",
   "metadata": {},
   "outputs": [],
   "source": [
    "clf1 = clf.predict(X_test)"
   ]
  },
  {
   "cell_type": "code",
   "execution_count": 136,
   "id": "66b788bc",
   "metadata": {},
   "outputs": [
    {
     "data": {
      "text/plain": [
       "array([[261, 148],\n",
       "       [127,  64]])"
      ]
     },
     "execution_count": 136,
     "metadata": {},
     "output_type": "execute_result"
    }
   ],
   "source": [
    "confusion_matrix(clf1, x_test)"
   ]
  },
  {
   "cell_type": "markdown",
   "id": "80a925b9",
   "metadata": {},
   "source": [
    "# Naive Bayes"
   ]
  },
  {
   "cell_type": "code",
   "execution_count": 137,
   "id": "ccfc7bb9",
   "metadata": {},
   "outputs": [],
   "source": [
    "#Gaussian Naive Bayes"
   ]
  },
  {
   "cell_type": "code",
   "execution_count": 139,
   "id": "0b773f12",
   "metadata": {},
   "outputs": [],
   "source": [
    "bayes = GaussianNB()\n"
   ]
  },
  {
   "cell_type": "code",
   "execution_count": 140,
   "id": "0e055bbf",
   "metadata": {},
   "outputs": [
    {
     "data": {
      "text/plain": [
       "GaussianNB()"
      ]
     },
     "execution_count": 140,
     "metadata": {},
     "output_type": "execute_result"
    }
   ],
   "source": [
    "bayes.fit(X_train, y_train)"
   ]
  },
  {
   "cell_type": "code",
   "execution_count": 141,
   "id": "55ea14b1",
   "metadata": {},
   "outputs": [
    {
     "data": {
      "text/plain": [
       "array([0])"
      ]
     },
     "execution_count": 141,
     "metadata": {},
     "output_type": "execute_result"
    }
   ],
   "source": [
    "bayes.predict([[2,130,60,40,0,32,0.250,35]])"
   ]
  },
  {
   "cell_type": "code",
   "execution_count": 142,
   "id": "97b3c4f9",
   "metadata": {},
   "outputs": [
    {
     "data": {
      "text/plain": [
       "0.7616666666666667"
      ]
     },
     "execution_count": 142,
     "metadata": {},
     "output_type": "execute_result"
    }
   ],
   "source": [
    "bayes.score(X_test,y_test )"
   ]
  },
  {
   "cell_type": "markdown",
   "id": "f42f2612",
   "metadata": {},
   "source": [
    "# Multinomial Naive Bayes"
   ]
  },
  {
   "cell_type": "code",
   "execution_count": 144,
   "id": "570ecd03",
   "metadata": {},
   "outputs": [],
   "source": [
    "bayes2 = MultinomialNB()"
   ]
  },
  {
   "cell_type": "code",
   "execution_count": 146,
   "id": "70f0e453",
   "metadata": {},
   "outputs": [
    {
     "data": {
      "text/plain": [
       "MultinomialNB()"
      ]
     },
     "execution_count": 146,
     "metadata": {},
     "output_type": "execute_result"
    }
   ],
   "source": [
    "bayes2.fit(X_train, y_train)"
   ]
  },
  {
   "cell_type": "code",
   "execution_count": 147,
   "id": "39bd0f9b",
   "metadata": {},
   "outputs": [
    {
     "data": {
      "text/plain": [
       "array([0])"
      ]
     },
     "execution_count": 147,
     "metadata": {},
     "output_type": "execute_result"
    }
   ],
   "source": [
    "bayes2.predict([[2,130,60,40,0,32,0.250,35]])"
   ]
  },
  {
   "cell_type": "code",
   "execution_count": 148,
   "id": "97f6137e",
   "metadata": {},
   "outputs": [],
   "source": [
    "#revisit bayes and multinomialNB"
   ]
  },
  {
   "cell_type": "markdown",
   "id": "fe8830fc",
   "metadata": {},
   "source": [
    "# Stochastic Gradient Descent"
   ]
  },
  {
   "cell_type": "code",
   "execution_count": 164,
   "id": "31ca4411",
   "metadata": {},
   "outputs": [],
   "source": [
    "sgd = SGDClassifier(loss=\"hinge\", penalty=\"l2\", max_iter=10)"
   ]
  },
  {
   "cell_type": "code",
   "execution_count": 165,
   "id": "76aa1e98",
   "metadata": {},
   "outputs": [
    {
     "name": "stderr",
     "output_type": "stream",
     "text": [
      "/home/wanyoike/anaconda3/lib/python3.9/site-packages/sklearn/linear_model/_stochastic_gradient.py:574: ConvergenceWarning: Maximum number of iteration reached before convergence. Consider increasing max_iter to improve the fit.\n",
      "  warnings.warn(\"Maximum number of iteration reached before \"\n"
     ]
    },
    {
     "data": {
      "text/plain": [
       "SGDClassifier(max_iter=10)"
      ]
     },
     "execution_count": 165,
     "metadata": {},
     "output_type": "execute_result"
    }
   ],
   "source": [
    "sgd.fit(X_train, y_train)"
   ]
  },
  {
   "cell_type": "code",
   "execution_count": 167,
   "id": "6bfb4c1e",
   "metadata": {},
   "outputs": [
    {
     "data": {
      "text/plain": [
       "array([0])"
      ]
     },
     "execution_count": 167,
     "metadata": {},
     "output_type": "execute_result"
    }
   ],
   "source": [
    "sgd.predict([[2,130,60,40,0,32,0.250,35]])#increasing max_iter to improve the fit"
   ]
  },
  {
   "cell_type": "markdown",
   "id": "26b72358",
   "metadata": {},
   "source": [
    "# Gradient Boosting Classifier"
   ]
  },
  {
   "cell_type": "code",
   "execution_count": 170,
   "id": "af428d78",
   "metadata": {},
   "outputs": [],
   "source": [
    "from sklearn.ensemble import GradientBoostingClassifier\n",
    "gbc = GradientBoostingClassifier()\n"
   ]
  },
  {
   "cell_type": "code",
   "execution_count": 171,
   "id": "60407231",
   "metadata": {},
   "outputs": [
    {
     "data": {
      "text/plain": [
       "GradientBoostingClassifier()"
      ]
     },
     "execution_count": 171,
     "metadata": {},
     "output_type": "execute_result"
    }
   ],
   "source": [
    "gbc.fit(X_train, y_train)"
   ]
  },
  {
   "cell_type": "code",
   "execution_count": 172,
   "id": "95fa7414",
   "metadata": {},
   "outputs": [
    {
     "data": {
      "text/plain": [
       "array([1])"
      ]
     },
     "execution_count": 172,
     "metadata": {},
     "output_type": "execute_result"
    }
   ],
   "source": [
    "gbc.predict([[2,130,60,40,0,32,0.250,35]])"
   ]
  },
  {
   "cell_type": "code",
   "execution_count": 173,
   "id": "0bedc891",
   "metadata": {},
   "outputs": [
    {
     "data": {
      "text/plain": [
       "0.8583333333333333"
      ]
     },
     "execution_count": 173,
     "metadata": {},
     "output_type": "execute_result"
    }
   ],
   "source": [
    "gbc.score(X_test, y_test)"
   ]
  },
  {
   "cell_type": "code",
   "execution_count": 174,
   "id": "54553a44",
   "metadata": {},
   "outputs": [],
   "source": [
    "#revisit this topic\n"
   ]
  },
  {
   "cell_type": "markdown",
   "id": "1af2d6ca",
   "metadata": {},
   "source": [
    "# LightGBM Classifier"
   ]
  },
  {
   "cell_type": "code",
   "execution_count": 175,
   "id": "599956d9",
   "metadata": {},
   "outputs": [
    {
     "ename": "ModuleNotFoundError",
     "evalue": "No module named 'lightgbm'",
     "output_type": "error",
     "traceback": [
      "\u001b[0;31m---------------------------------------------------------------------------\u001b[0m",
      "\u001b[0;31mModuleNotFoundError\u001b[0m                       Traceback (most recent call last)",
      "\u001b[0;32m/tmp/ipykernel_2091/3263785216.py\u001b[0m in \u001b[0;36m<module>\u001b[0;34m\u001b[0m\n\u001b[0;32m----> 1\u001b[0;31m \u001b[0;32mfrom\u001b[0m \u001b[0mlightgbm\u001b[0m \u001b[0;32mimport\u001b[0m \u001b[0mLGBMClassifier\u001b[0m\u001b[0;34m\u001b[0m\u001b[0;34m\u001b[0m\u001b[0m\n\u001b[0m",
      "\u001b[0;31mModuleNotFoundError\u001b[0m: No module named 'lightgbm'"
     ]
    }
   ],
   "source": [
    "#conda install lightgbm\n",
    "from lightgbm import LGBMClassifier\n"
   ]
  },
  {
   "cell_type": "code",
   "execution_count": 176,
   "id": "19bd3cba",
   "metadata": {},
   "outputs": [],
   "source": [
    "#import lightgbm as lgb\n",
    "#clf = lgb.LGBMClassifier()\n",
    "#clf.fit(X_train, y_train)"
   ]
  },
  {
   "cell_type": "code",
   "execution_count": null,
   "id": "34fe092a",
   "metadata": {},
   "outputs": [],
   "source": [
    "#LGBMClassifier(boosting_type='gbdt', class_weight=None, colsample_bytree=1.0,\n",
    "               #importance_type='split', learning_rate=0.1, max_depth=-1,\n",
    "              # min_child_samples=20, min_child_weight=0.001, min_split_gain=0.0,\n",
    "               #n_estimators=100, n_jobs=-1, num_leaves=31, objective=None,\n",
    "               #random_state=None, reg_alpha=0.0, reg_lambda=0.0, silent=True,\n",
    "               #subsample=1.0, subsample_for_bin=200000, subsample_freq=0)"
   ]
  },
  {
   "cell_type": "code",
   "execution_count": null,
   "id": "b7e0cb88",
   "metadata": {},
   "outputs": [],
   "source": [
    "#y_pred=clf.predict(X_test)"
   ]
  },
  {
   "cell_type": "markdown",
   "id": "bb0abdcb",
   "metadata": {},
   "source": [
    "# XGBoost Classifier"
   ]
  },
  {
   "cell_type": "code",
   "execution_count": 177,
   "id": "12211fca",
   "metadata": {},
   "outputs": [],
   "source": [
    "#to be continued"
   ]
  },
  {
   "cell_type": "code",
   "execution_count": null,
   "id": "75bc309e",
   "metadata": {},
   "outputs": [],
   "source": []
  }
 ],
 "metadata": {
  "kernelspec": {
   "display_name": "Python 3 (ipykernel)",
   "language": "python",
   "name": "python3"
  },
  "language_info": {
   "codemirror_mode": {
    "name": "ipython",
    "version": 3
   },
   "file_extension": ".py",
   "mimetype": "text/x-python",
   "name": "python",
   "nbconvert_exporter": "python",
   "pygments_lexer": "ipython3",
   "version": "3.9.7"
  }
 },
 "nbformat": 4,
 "nbformat_minor": 5
}
